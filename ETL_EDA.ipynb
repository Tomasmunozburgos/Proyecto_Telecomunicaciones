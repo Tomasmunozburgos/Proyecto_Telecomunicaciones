{
 "cells": [
  {
   "attachments": {},
   "cell_type": "markdown",
   "metadata": {},
   "source": [
    "Una empresa prestadora de servicios de telecomunicaciones le encarga a usted la realización de un análisis completo que permita reconocer el comportamiento de este sector a nivel nacional. Considere que la principal actividad de la empresa es brindar acceso a internet, pero también es importante considerar el comportamiento asociado al resto de los servicios de comunicación, con el fin de orientar a la empresa en brindar una buena calidad de sus servicios, identificar oportunidades de crecimiento y poder plantear soluciones personalizadas a sus posibles clientes.\n",
    "\n",
    "Con el fin de monitorear la eficacia de los objetivos de la empresa, se le pide visualizar en un dashboard el siguiente KPI y establecer 3 KPIs adicionales producto de su análisis:\n",
    "\n",
    "Aumentar en un 2% el acceso al servicio de internet para el próximo trimestre, cada 100 hogares, por provincia."
   ]
  },
  {
   "attachments": {},
   "cell_type": "markdown",
   "metadata": {},
   "source": [
    "Análisis Exploratorio de los datos (Exploratory Data Analysis = EDA)\n",
    "\n",
    "El reporte debe incluir un resumen de estadísticas descriptivas de los datasets, análisis univariados (por ejemplo, distribución de variables numéricas), análisis bivariados (correlación entre variables numéricas y/o categóricas) y cualquier análisis que le ayude al mejor entendimiento de los datos (encontrar patrones, outliers y/o anomalías, entre otros). El reporte debe presentarse en un notebook (.ipynb) con adecuado uso de markdowns y comentarios."
   ]
  },
  {
   "cell_type": "code",
   "execution_count": 4,
   "metadata": {},
   "outputs": [],
   "source": [
    "import pandas as pd\n",
    "import numpy as np\n",
    "import seaborn as sns\n",
    "import matplotlib.pyplot as plt"
   ]
  },
  {
   "cell_type": "code",
   "execution_count": 5,
   "metadata": {},
   "outputs": [],
   "source": [
    "df_baf = pd.read_csv('Datasets\\Internet_BAF.csv', thousands= '.' , encoding= 'utf-8')\n",
    "df_ingresos = pd.read_csv('Datasets\\Internet_Ingresos.csv', thousands= '.' , encoding= 'utf-8')\n",
    "df_penetracion_internet = pd.read_csv('Datasets\\Internet_Penetracion.csv', thousands= '.' , encoding= 'utf-8') \n",
    "df_acceso_velocidad = pd.read_csv('Datasets\\Internet_Accesos-por-velocidad.csv', thousands= '.' , encoding= 'utf-8')\n",
    "df_acceso_tecnologia = pd.read_csv('Datasets\\Internet_Accesos-por-tecnologia.csv', thousands= '.' , encoding= 'utf-8')\n",
    "df_velocidad_trimestre = pd.read_csv('Datasets\\historico_velocidad_internet.csv', thousands= '.', decimal = ',', encoding= 'utf-8') \n",
    "df_acceso_tecnologia_2 = pd.read_csv('Datasets\\AccesosaInternetfijoportecnologiaylocalidad.csv', thousands= '.' , encoding= 'utf-8')"
   ]
  },
  {
   "attachments": {},
   "cell_type": "markdown",
   "metadata": {},
   "source": [
    "Áreas para crecer: provincia con baja velocidades, baja penetraión, tecnología viejas -> si tengo la capacidad para invertir y la condición económica de la provincia lo permite.  \n",
    "Caso San Luis, mucho WIRELESS, esa tecnología no permite un ancho de banda muy grande -> más ancho de banda, más velocidad, más ingreso (si la demanda lo requiere)"
   ]
  },
  {
   "attachments": {},
   "cell_type": "markdown",
   "metadata": {},
   "source": [
    "4 negocios  \n",
    "cantidad total  \n",
    "penetracion  \n",
    "velocidad  \n",
    "total accesos a nv pais dimesionar, por tecno  \n",
    "averiguar cada tipo de conexion"
   ]
  },
  {
   "attachments": {},
   "cell_type": "markdown",
   "metadata": {},
   "source": [
    "ADLS: tecnología de línea de abonado digital DSL. Consiste en la transmisión de datos digitales apoyada en el cable de pares simétricos de cobre que lleva la línea telefónica convencional o línea de abonado (este viejo)\n",
    "CABLEMODEM: internet por cable es un tipo de acceso de banda ancha a Internet.  \n",
    "DIAL UP: conexión que utiliza un medio telefónico analógico, como la red telefónica conmutada fija, o digital como GSM, pero cuyo objeto principal es la telefonía de voz. (este viejo)   \n",
    "FIBRAOPTICA: conexión que utiliza un medio telefónico analógico, como la red telefónica conmutada fija, o digital como GSM, pero cuyo objeto principal es la telefonía de voz.  \n",
    "4G/3G: cuarta y tercera generación de tecnologías de telefonía móvil  \n",
    "TELEFONIA FIJA: teléfono que utiliza una línea telefónica con alambre de metal, cobre o fibra óptica, para la transmisión a diferencia de un móvil de línea celular, que utiliza ondas de radio para la transmisión.  \n",
    "WIRELESS: comunicación en la que no se utiliza un medio de propagación físico, sino que se utiliza modulación de ondas electromagnéticas, radiaciones  \n",
    "SATELITAL: comunicación que emplea como soporte un satélite, que se localiza en la órbita terrestre y está diseñado para la emisión y recepción de señales de radiofrecuencia."
   ]
  },
  {
   "attachments": {},
   "cell_type": "markdown",
   "metadata": {},
   "source": [
    "NORMALIZO LOS DATASETS"
   ]
  },
  {
   "cell_type": "code",
   "execution_count": 6,
   "metadata": {},
   "outputs": [],
   "source": [
    "df_baf = df_baf.applymap(lambda x: x.lower() if type(x) == str else x)\n",
    "df_ingresos = df_ingresos.applymap(lambda x: x.lower() if type(x) == str else x)\n",
    "df_penetracion_internet = df_penetracion_internet.applymap(lambda x: x.lower() if type(x) == str else x)\n",
    "df_acceso_velocidad = df_acceso_velocidad.applymap(lambda x: x.lower() if type(x) == str else x)\n",
    "df_acceso_tecnologia = df_acceso_tecnologia.applymap(lambda x: x.lower() if type(x) == str else x)\n",
    "df_velocidad_trimestre = df_velocidad_trimestre.applymap(lambda x: x.lower() if type(x) == str else x)\n",
    "df_acceso_tecnologia_2 = df_acceso_tecnologia_2.applymap(lambda x: x.lower() if type(x) == str else x)"
   ]
  },
  {
   "cell_type": "code",
   "execution_count": 7,
   "metadata": {},
   "outputs": [],
   "source": [
    "# Seleccionar solo las columnas que contengan strings\n",
    "cols_con_strings = df_baf.select_dtypes(include='object').columns\n",
    "# Aplicar el método str.title() a las columnas seleccionadas\n",
    "df_baf[cols_con_strings] = df_baf[cols_con_strings].apply(lambda x: x.str.title())\n",
    "\n",
    "# Seleccionar solo las columnas que contengan strings\n",
    "cols_con_strings = df_penetracion_internet.select_dtypes(include='object').columns\n",
    "# Aplicar el método str.title() a las columnas seleccionadas\n",
    "df_penetracion_internet[cols_con_strings] = df_penetracion_internet[cols_con_strings].apply(lambda x: x.str.title())\n",
    "\n",
    "# Seleccionar solo las columnas que contengan strings\n",
    "cols_con_strings = df_acceso_velocidad.select_dtypes(include='object').columns\n",
    "# Aplicar el método str.title() a las columnas seleccionadas\n",
    "df_acceso_velocidad[cols_con_strings] = df_acceso_velocidad[cols_con_strings].apply(lambda x: x.str.title())\n",
    "\n",
    "# Seleccionar solo las columnas que contengan strings\n",
    "cols_con_strings = df_velocidad_trimestre.select_dtypes(include='object').columns\n",
    "# Aplicar el método str.title() a las columnas seleccionadas\n",
    "df_velocidad_trimestre[cols_con_strings] = df_velocidad_trimestre[cols_con_strings].apply(lambda x: x.str.title())\n",
    "\n",
    "# Seleccionar solo las columnas que contengan strings\n",
    "cols_con_strings = df_acceso_tecnologia_2.select_dtypes(include='object').columns\n",
    "# Aplicar el método str.title() a las columnas seleccionadas\n",
    "df_acceso_tecnologia_2[cols_con_strings] = df_acceso_tecnologia_2[cols_con_strings].apply(lambda x: x.str.title())"
   ]
  },
  {
   "attachments": {},
   "cell_type": "markdown",
   "metadata": {},
   "source": [
    "Acceso a internet por tecnología por localidad/partido/provincia\n"
   ]
  },
  {
   "cell_type": "code",
   "execution_count": 8,
   "metadata": {},
   "outputs": [
    {
     "data": {
      "text/html": [
       "<div>\n",
       "<style scoped>\n",
       "    .dataframe tbody tr th:only-of-type {\n",
       "        vertical-align: middle;\n",
       "    }\n",
       "\n",
       "    .dataframe tbody tr th {\n",
       "        vertical-align: top;\n",
       "    }\n",
       "\n",
       "    .dataframe thead th {\n",
       "        text-align: right;\n",
       "    }\n",
       "</style>\n",
       "<table border=\"1\" class=\"dataframe\">\n",
       "  <thead>\n",
       "    <tr style=\"text-align: right;\">\n",
       "      <th></th>\n",
       "      <th>Provincia</th>\n",
       "      <th>Partido</th>\n",
       "      <th>Localidad</th>\n",
       "      <th>Link Indec</th>\n",
       "      <th>ADSL</th>\n",
       "      <th>CABLEMODEM</th>\n",
       "      <th>DIAL UP</th>\n",
       "      <th>FIBRA OPTICA</th>\n",
       "      <th>OTROS</th>\n",
       "      <th>SATELITAL</th>\n",
       "      <th>WIMAX</th>\n",
       "      <th>WIRELESS</th>\n",
       "      <th>Total general</th>\n",
       "      <th>Unnamed: 13</th>\n",
       "    </tr>\n",
       "  </thead>\n",
       "  <tbody>\n",
       "    <tr>\n",
       "      <th>0</th>\n",
       "      <td>Buenos Aires</td>\n",
       "      <td>25 De Mayo</td>\n",
       "      <td>25 De Mayo</td>\n",
       "      <td>6854100</td>\n",
       "      <td>873</td>\n",
       "      <td>4.704</td>\n",
       "      <td>- 0</td>\n",
       "      <td>2</td>\n",
       "      <td>- 0</td>\n",
       "      <td>975</td>\n",
       "      <td>- 0</td>\n",
       "      <td>664</td>\n",
       "      <td>7.218</td>\n",
       "      <td>NaN</td>\n",
       "    </tr>\n",
       "    <tr>\n",
       "      <th>1</th>\n",
       "      <td>Buenos Aires</td>\n",
       "      <td>25 De Mayo</td>\n",
       "      <td>Del Valle</td>\n",
       "      <td>6854020</td>\n",
       "      <td>181</td>\n",
       "      <td>- 0</td>\n",
       "      <td>- 0</td>\n",
       "      <td>- 0</td>\n",
       "      <td>10</td>\n",
       "      <td>1</td>\n",
       "      <td>- 0</td>\n",
       "      <td>- 0</td>\n",
       "      <td>192</td>\n",
       "      <td>NaN</td>\n",
       "    </tr>\n",
       "    <tr>\n",
       "      <th>2</th>\n",
       "      <td>Buenos Aires</td>\n",
       "      <td>25 De Mayo</td>\n",
       "      <td>Gobernador Ugarte</td>\n",
       "      <td>6854040</td>\n",
       "      <td>- 0</td>\n",
       "      <td>- 0</td>\n",
       "      <td>- 0</td>\n",
       "      <td>- 0</td>\n",
       "      <td>- 0</td>\n",
       "      <td>- 0</td>\n",
       "      <td>- 0</td>\n",
       "      <td>181</td>\n",
       "      <td>181</td>\n",
       "      <td>NaN</td>\n",
       "    </tr>\n",
       "    <tr>\n",
       "      <th>3</th>\n",
       "      <td>Buenos Aires</td>\n",
       "      <td>25 De Mayo</td>\n",
       "      <td>Norberto De La Riestra</td>\n",
       "      <td>6854060</td>\n",
       "      <td>- 0</td>\n",
       "      <td>782</td>\n",
       "      <td>- 0</td>\n",
       "      <td>6</td>\n",
       "      <td>167</td>\n",
       "      <td>- 0</td>\n",
       "      <td>- 0</td>\n",
       "      <td>327</td>\n",
       "      <td>1.282</td>\n",
       "      <td>NaN</td>\n",
       "    </tr>\n",
       "    <tr>\n",
       "      <th>4</th>\n",
       "      <td>Buenos Aires</td>\n",
       "      <td>25 De Mayo</td>\n",
       "      <td>Lucas Monteverde</td>\n",
       "      <td>6854050</td>\n",
       "      <td>- 0</td>\n",
       "      <td>- 0</td>\n",
       "      <td>- 0</td>\n",
       "      <td>- 0</td>\n",
       "      <td>- 0</td>\n",
       "      <td>- 0</td>\n",
       "      <td>- 0</td>\n",
       "      <td>6</td>\n",
       "      <td>6</td>\n",
       "      <td>NaN</td>\n",
       "    </tr>\n",
       "  </tbody>\n",
       "</table>\n",
       "</div>"
      ],
      "text/plain": [
       "      Provincia     Partido               Localidad Link Indec ADSL  \\\n",
       "0  Buenos Aires  25 De Mayo              25 De Mayo    6854100  873   \n",
       "1  Buenos Aires  25 De Mayo               Del Valle    6854020  181   \n",
       "2  Buenos Aires  25 De Mayo       Gobernador Ugarte    6854040  - 0   \n",
       "3  Buenos Aires  25 De Mayo  Norberto De La Riestra    6854060  - 0   \n",
       "4  Buenos Aires  25 De Mayo        Lucas Monteverde    6854050  - 0   \n",
       "\n",
       "  CABLEMODEM DIAL UP FIBRA OPTICA OTROS SATELITAL WIMAX WIRELESS  \\\n",
       "0      4.704     - 0            2   - 0       975   - 0      664   \n",
       "1        - 0     - 0          - 0    10         1   - 0      - 0   \n",
       "2        - 0     - 0          - 0   - 0       - 0   - 0      181   \n",
       "3        782     - 0            6   167       - 0   - 0      327   \n",
       "4        - 0     - 0          - 0   - 0       - 0   - 0        6   \n",
       "\n",
       "  Total general  Unnamed: 13  \n",
       "0         7.218          NaN  \n",
       "1           192          NaN  \n",
       "2           181          NaN  \n",
       "3         1.282          NaN  \n",
       "4             6          NaN  "
      ]
     },
     "execution_count": 8,
     "metadata": {},
     "output_type": "execute_result"
    }
   ],
   "source": [
    "df_acceso_tecnologia_2.head()"
   ]
  },
  {
   "cell_type": "code",
   "execution_count": 9,
   "metadata": {},
   "outputs": [
    {
     "name": "stdout",
     "output_type": "stream",
     "text": [
      "<class 'pandas.core.frame.DataFrame'>\n",
      "RangeIndex: 3142 entries, 0 to 3141\n",
      "Data columns (total 14 columns):\n",
      " #   Column         Non-Null Count  Dtype  \n",
      "---  ------         --------------  -----  \n",
      " 0   Provincia      3142 non-null   object \n",
      " 1   Partido        3142 non-null   object \n",
      " 2   Localidad      3142 non-null   object \n",
      " 3   Link Indec     3142 non-null   object \n",
      " 4   ADSL           3142 non-null   object \n",
      " 5   CABLEMODEM     3142 non-null   object \n",
      " 6   DIAL UP        3142 non-null   object \n",
      " 7   FIBRA OPTICA   3142 non-null   object \n",
      " 8   OTROS          3142 non-null   object \n",
      " 9   SATELITAL      3142 non-null   object \n",
      " 10  WIMAX          3142 non-null   object \n",
      " 11  WIRELESS       3142 non-null   object \n",
      " 12  Total general  3142 non-null   object \n",
      " 13  Unnamed: 13    0 non-null      float64\n",
      "dtypes: float64(1), object(13)\n",
      "memory usage: 343.8+ KB\n"
     ]
    }
   ],
   "source": [
    "df_acceso_tecnologia_2.info()"
   ]
  },
  {
   "cell_type": "code",
   "execution_count": 10,
   "metadata": {},
   "outputs": [
    {
     "data": {
      "text/plain": [
       "array(['Buenos Aires', 'Caba', 'Catamarca', 'Chaco', 'Chubut', 'Cordoba',\n",
       "       'Corrientes', 'Entre Rios', 'Formosa', 'Jujuy', 'La Pampa',\n",
       "       'La Rioja', 'Mendoza', 'Misiones', 'Neuquen', 'Rio Negro', 'Salta',\n",
       "       'San Juan', 'San Luis', 'Santa Cruz', 'Santa Fe',\n",
       "       'Santiago Del Estero', 'Tierra Del Fuego', 'Tucuman'], dtype=object)"
      ]
     },
     "execution_count": 10,
     "metadata": {},
     "output_type": "execute_result"
    }
   ],
   "source": [
    "df_acceso_tecnologia_2['Provincia'].unique()"
   ]
  },
  {
   "cell_type": "code",
   "execution_count": 11,
   "metadata": {},
   "outputs": [],
   "source": [
    "df_acceso_tecnologia_2['Provincia'] = df_acceso_tecnologia_2['Provincia'].replace('Caba', 'Capital Federal')\n",
    "df_acceso_tecnologia_2['Provincia'] = df_acceso_tecnologia_2['Provincia'].replace('Cordoba', 'Córdoba')\n",
    "df_acceso_tecnologia_2['Provincia'] = df_acceso_tecnologia_2['Provincia'].replace('Entre Rios', 'Entre Ríos')\n",
    "df_acceso_tecnologia_2['Provincia'] = df_acceso_tecnologia_2['Provincia'].replace('Neuquen', 'Neuquén')\n",
    "df_acceso_tecnologia_2['Provincia'] = df_acceso_tecnologia_2['Provincia'].replace('Rio Negro', 'Río Negro')\n",
    "df_acceso_tecnologia_2['Provincia'] = df_acceso_tecnologia_2['Provincia'].replace('Tucuman', 'Tucumán')"
   ]
  },
  {
   "cell_type": "code",
   "execution_count": 12,
   "metadata": {},
   "outputs": [],
   "source": [
    "df_acceso_tecnologia_2 = df_acceso_tecnologia_2.replace({\"- 0\": 0})"
   ]
  },
  {
   "cell_type": "code",
   "execution_count": 13,
   "metadata": {},
   "outputs": [
    {
     "name": "stdout",
     "output_type": "stream",
     "text": [
      "<class 'pandas.core.frame.DataFrame'>\n",
      "RangeIndex: 3142 entries, 0 to 3141\n",
      "Data columns (total 14 columns):\n",
      " #   Column         Non-Null Count  Dtype  \n",
      "---  ------         --------------  -----  \n",
      " 0   Provincia      3142 non-null   object \n",
      " 1   Partido        3142 non-null   object \n",
      " 2   Localidad      3142 non-null   object \n",
      " 3   Link Indec     3142 non-null   object \n",
      " 4   ADSL           3142 non-null   object \n",
      " 5   CABLEMODEM     3142 non-null   object \n",
      " 6   DIAL UP        3142 non-null   object \n",
      " 7   FIBRA OPTICA   3142 non-null   object \n",
      " 8   OTROS          3142 non-null   object \n",
      " 9   SATELITAL      3142 non-null   object \n",
      " 10  WIMAX          3142 non-null   object \n",
      " 11  WIRELESS       3142 non-null   object \n",
      " 12  Total general  3142 non-null   object \n",
      " 13  Unnamed: 13    0 non-null      float64\n",
      "dtypes: float64(1), object(13)\n",
      "memory usage: 343.8+ KB\n"
     ]
    }
   ],
   "source": [
    "df_acceso_tecnologia_2.info()"
   ]
  },
  {
   "cell_type": "code",
   "execution_count": 14,
   "metadata": {},
   "outputs": [],
   "source": [
    "df_acceso_tecnologia_2.drop(columns = ['Unnamed: 13'], inplace=True)"
   ]
  },
  {
   "cell_type": "code",
   "execution_count": 15,
   "metadata": {},
   "outputs": [
    {
     "data": {
      "text/plain": [
       "Index(['Provincia', 'Partido', 'Localidad', 'Link Indec', 'ADSL', 'CABLEMODEM',\n",
       "       'DIAL UP', 'FIBRA OPTICA', 'OTROS', 'SATELITAL', 'WIMAX', 'WIRELESS',\n",
       "       'Total general'],\n",
       "      dtype='object')"
      ]
     },
     "execution_count": 15,
     "metadata": {},
     "output_type": "execute_result"
    }
   ],
   "source": [
    "df_acceso_tecnologia_2.columns"
   ]
  },
  {
   "cell_type": "code",
   "execution_count": 16,
   "metadata": {},
   "outputs": [],
   "source": [
    "df_acceso_tecnologia_2.to_csv('df_acceso_tecnologia_2.csv', index=False)"
   ]
  },
  {
   "attachments": {},
   "cell_type": "markdown",
   "metadata": {},
   "source": [
    "Acceso a internet por tecnología con tiempo"
   ]
  },
  {
   "cell_type": "code",
   "execution_count": 17,
   "metadata": {},
   "outputs": [
    {
     "data": {
      "text/html": [
       "<div>\n",
       "<style scoped>\n",
       "    .dataframe tbody tr th:only-of-type {\n",
       "        vertical-align: middle;\n",
       "    }\n",
       "\n",
       "    .dataframe tbody tr th {\n",
       "        vertical-align: top;\n",
       "    }\n",
       "\n",
       "    .dataframe thead th {\n",
       "        text-align: right;\n",
       "    }\n",
       "</style>\n",
       "<table border=\"1\" class=\"dataframe\">\n",
       "  <thead>\n",
       "    <tr style=\"text-align: right;\">\n",
       "      <th></th>\n",
       "      <th>Año</th>\n",
       "      <th>Trimestre</th>\n",
       "      <th>ADSL</th>\n",
       "      <th>Cablemodem</th>\n",
       "      <th>Fibra óptica</th>\n",
       "      <th>Wireless</th>\n",
       "      <th>Otros</th>\n",
       "      <th>Total</th>\n",
       "      <th>Periodo</th>\n",
       "    </tr>\n",
       "  </thead>\n",
       "  <tbody>\n",
       "    <tr>\n",
       "      <th>0</th>\n",
       "      <td>2022</td>\n",
       "      <td>3</td>\n",
       "      <td>1395277</td>\n",
       "      <td>6031970</td>\n",
       "      <td>2871541</td>\n",
       "      <td>557110</td>\n",
       "      <td>235230</td>\n",
       "      <td>11091128</td>\n",
       "      <td>jul-sept 2022</td>\n",
       "    </tr>\n",
       "    <tr>\n",
       "      <th>1</th>\n",
       "      <td>2022</td>\n",
       "      <td>2</td>\n",
       "      <td>1468333</td>\n",
       "      <td>5979214</td>\n",
       "      <td>2723285</td>\n",
       "      <td>556243</td>\n",
       "      <td>231609</td>\n",
       "      <td>10958684</td>\n",
       "      <td>abr-jun 2022</td>\n",
       "    </tr>\n",
       "    <tr>\n",
       "      <th>2</th>\n",
       "      <td>2022</td>\n",
       "      <td>1</td>\n",
       "      <td>1533240</td>\n",
       "      <td>6073426</td>\n",
       "      <td>2219533</td>\n",
       "      <td>545814</td>\n",
       "      <td>251996</td>\n",
       "      <td>10624009</td>\n",
       "      <td>ene-mar 2022</td>\n",
       "    </tr>\n",
       "    <tr>\n",
       "      <th>3</th>\n",
       "      <td>2021</td>\n",
       "      <td>4</td>\n",
       "      <td>1657615</td>\n",
       "      <td>5984240</td>\n",
       "      <td>2072236</td>\n",
       "      <td>523107</td>\n",
       "      <td>252596</td>\n",
       "      <td>10489794</td>\n",
       "      <td>oct-dic 2021</td>\n",
       "    </tr>\n",
       "    <tr>\n",
       "      <th>4</th>\n",
       "      <td>2021</td>\n",
       "      <td>3</td>\n",
       "      <td>1950631</td>\n",
       "      <td>5826257</td>\n",
       "      <td>1566048</td>\n",
       "      <td>492415</td>\n",
       "      <td>250190</td>\n",
       "      <td>10085541</td>\n",
       "      <td>jul-sept 2021</td>\n",
       "    </tr>\n",
       "  </tbody>\n",
       "</table>\n",
       "</div>"
      ],
      "text/plain": [
       "    Año  Trimestre     ADSL  Cablemodem  Fibra óptica  Wireless   Otros  \\\n",
       "0  2022          3  1395277     6031970       2871541    557110  235230   \n",
       "1  2022          2  1468333     5979214       2723285    556243  231609   \n",
       "2  2022          1  1533240     6073426       2219533    545814  251996   \n",
       "3  2021          4  1657615     5984240       2072236    523107  252596   \n",
       "4  2021          3  1950631     5826257       1566048    492415  250190   \n",
       "\n",
       "      Total        Periodo  \n",
       "0  11091128  jul-sept 2022  \n",
       "1  10958684   abr-jun 2022  \n",
       "2  10624009   ene-mar 2022  \n",
       "3  10489794   oct-dic 2021  \n",
       "4  10085541  jul-sept 2021  "
      ]
     },
     "execution_count": 17,
     "metadata": {},
     "output_type": "execute_result"
    }
   ],
   "source": [
    "df_acceso_tecnologia.head()"
   ]
  },
  {
   "cell_type": "code",
   "execution_count": 18,
   "metadata": {},
   "outputs": [],
   "source": [
    "def fecha_trimestre(row):\n",
    "    trimestre = row['Trimestre']\n",
    "    year = row['Año']\n",
    "    \n",
    "    if trimestre == 1:\n",
    "        fecha = pd.to_datetime(f'{year}-01-01')\n",
    "    elif trimestre == 2:\n",
    "        fecha = pd.to_datetime(f'{year}-04-01')\n",
    "    elif trimestre == 3:\n",
    "        fecha = pd.to_datetime(f'{year}-07-01')\n",
    "    elif trimestre == 4:\n",
    "        fecha = pd.to_datetime(f'{year}-10-01')\n",
    "    \n",
    "    return fecha\n",
    "\n",
    "df_acceso_tecnologia['Fecha'] = df_acceso_tecnologia.apply(fecha_trimestre, axis=1)"
   ]
  },
  {
   "cell_type": "code",
   "execution_count": 19,
   "metadata": {},
   "outputs": [],
   "source": [
    "df_acceso_tecnologia.to_csv('df_acceso_tecnologia.csv', index=False)"
   ]
  },
  {
   "cell_type": "code",
   "execution_count": 20,
   "metadata": {},
   "outputs": [
    {
     "name": "stdout",
     "output_type": "stream",
     "text": [
      "<class 'pandas.core.frame.DataFrame'>\n",
      "RangeIndex: 35 entries, 0 to 34\n",
      "Data columns (total 10 columns):\n",
      " #   Column        Non-Null Count  Dtype         \n",
      "---  ------        --------------  -----         \n",
      " 0   Año           35 non-null     int64         \n",
      " 1   Trimestre     35 non-null     int64         \n",
      " 2   ADSL          35 non-null     int64         \n",
      " 3   Cablemodem    35 non-null     int64         \n",
      " 4   Fibra óptica  35 non-null     int64         \n",
      " 5   Wireless      35 non-null     int64         \n",
      " 6   Otros         35 non-null     int64         \n",
      " 7   Total         35 non-null     int64         \n",
      " 8   Periodo       35 non-null     object        \n",
      " 9   Fecha         35 non-null     datetime64[ns]\n",
      "dtypes: datetime64[ns](1), int64(8), object(1)\n",
      "memory usage: 2.9+ KB\n"
     ]
    }
   ],
   "source": [
    "df_acceso_tecnologia.info()"
   ]
  },
  {
   "attachments": {},
   "cell_type": "markdown",
   "metadata": {},
   "source": [
    "PROMEDIO DE VELOCIDAD DE BAJADA (MBPS) POR TRIMESTRE"
   ]
  },
  {
   "cell_type": "code",
   "execution_count": 21,
   "metadata": {},
   "outputs": [
    {
     "data": {
      "text/html": [
       "<div>\n",
       "<style scoped>\n",
       "    .dataframe tbody tr th:only-of-type {\n",
       "        vertical-align: middle;\n",
       "    }\n",
       "\n",
       "    .dataframe tbody tr th {\n",
       "        vertical-align: top;\n",
       "    }\n",
       "\n",
       "    .dataframe thead th {\n",
       "        text-align: right;\n",
       "    }\n",
       "</style>\n",
       "<table border=\"1\" class=\"dataframe\">\n",
       "  <thead>\n",
       "    <tr style=\"text-align: right;\">\n",
       "      <th></th>\n",
       "      <th>Año</th>\n",
       "      <th>Trimestre</th>\n",
       "      <th>Mbps (Media de bajada)</th>\n",
       "      <th>Trimestre.1</th>\n",
       "    </tr>\n",
       "  </thead>\n",
       "  <tbody>\n",
       "    <tr>\n",
       "      <th>0</th>\n",
       "      <td>2022</td>\n",
       "      <td>3</td>\n",
       "      <td>62.46</td>\n",
       "      <td>Jul-Sept 2022</td>\n",
       "    </tr>\n",
       "    <tr>\n",
       "      <th>1</th>\n",
       "      <td>2022</td>\n",
       "      <td>2</td>\n",
       "      <td>58.44</td>\n",
       "      <td>Abr-Jun 2022</td>\n",
       "    </tr>\n",
       "    <tr>\n",
       "      <th>2</th>\n",
       "      <td>2022</td>\n",
       "      <td>1</td>\n",
       "      <td>55.11</td>\n",
       "      <td>Ene-Mar 2022</td>\n",
       "    </tr>\n",
       "    <tr>\n",
       "      <th>3</th>\n",
       "      <td>2021</td>\n",
       "      <td>4</td>\n",
       "      <td>52.34</td>\n",
       "      <td>Oct-Dic 2021</td>\n",
       "    </tr>\n",
       "    <tr>\n",
       "      <th>4</th>\n",
       "      <td>2021</td>\n",
       "      <td>3</td>\n",
       "      <td>48.46</td>\n",
       "      <td>Jul-Sept 2021</td>\n",
       "    </tr>\n",
       "  </tbody>\n",
       "</table>\n",
       "</div>"
      ],
      "text/plain": [
       "    Año  Trimestre  Mbps (Media de bajada)    Trimestre.1\n",
       "0  2022          3                   62.46  Jul-Sept 2022\n",
       "1  2022          2                   58.44   Abr-Jun 2022\n",
       "2  2022          1                   55.11   Ene-Mar 2022\n",
       "3  2021          4                   52.34   Oct-Dic 2021\n",
       "4  2021          3                   48.46  Jul-Sept 2021"
      ]
     },
     "execution_count": 21,
     "metadata": {},
     "output_type": "execute_result"
    }
   ],
   "source": [
    "df_velocidad_trimestre.head()"
   ]
  },
  {
   "cell_type": "code",
   "execution_count": 22,
   "metadata": {},
   "outputs": [],
   "source": [
    "def fecha_trimestre(row):\n",
    "    trimestre = row['Trimestre']\n",
    "    year = row['Año']\n",
    "    \n",
    "    if trimestre == 1:\n",
    "        fecha = pd.to_datetime(f'{year}-01-01')\n",
    "    elif trimestre == 2:\n",
    "        fecha = pd.to_datetime(f'{year}-04-01')\n",
    "    elif trimestre == 3:\n",
    "        fecha = pd.to_datetime(f'{year}-07-01')\n",
    "    elif trimestre == 4:\n",
    "        fecha = pd.to_datetime(f'{year}-10-01')\n",
    "    \n",
    "    return fecha\n",
    "\n",
    "df_velocidad_trimestre['Fecha'] = df_velocidad_trimestre.apply(fecha_trimestre, axis=1)"
   ]
  },
  {
   "cell_type": "code",
   "execution_count": 23,
   "metadata": {},
   "outputs": [
    {
     "data": {
      "text/html": [
       "<div>\n",
       "<style scoped>\n",
       "    .dataframe tbody tr th:only-of-type {\n",
       "        vertical-align: middle;\n",
       "    }\n",
       "\n",
       "    .dataframe tbody tr th {\n",
       "        vertical-align: top;\n",
       "    }\n",
       "\n",
       "    .dataframe thead th {\n",
       "        text-align: right;\n",
       "    }\n",
       "</style>\n",
       "<table border=\"1\" class=\"dataframe\">\n",
       "  <thead>\n",
       "    <tr style=\"text-align: right;\">\n",
       "      <th></th>\n",
       "      <th>Año</th>\n",
       "      <th>Trimestre</th>\n",
       "      <th>Mbps (Media de bajada)</th>\n",
       "      <th>Trimestre.1</th>\n",
       "      <th>Fecha</th>\n",
       "    </tr>\n",
       "  </thead>\n",
       "  <tbody>\n",
       "    <tr>\n",
       "      <th>0</th>\n",
       "      <td>2022</td>\n",
       "      <td>3</td>\n",
       "      <td>62.46</td>\n",
       "      <td>Jul-Sept 2022</td>\n",
       "      <td>2022-07-01</td>\n",
       "    </tr>\n",
       "    <tr>\n",
       "      <th>1</th>\n",
       "      <td>2022</td>\n",
       "      <td>2</td>\n",
       "      <td>58.44</td>\n",
       "      <td>Abr-Jun 2022</td>\n",
       "      <td>2022-04-01</td>\n",
       "    </tr>\n",
       "    <tr>\n",
       "      <th>2</th>\n",
       "      <td>2022</td>\n",
       "      <td>1</td>\n",
       "      <td>55.11</td>\n",
       "      <td>Ene-Mar 2022</td>\n",
       "      <td>2022-01-01</td>\n",
       "    </tr>\n",
       "    <tr>\n",
       "      <th>3</th>\n",
       "      <td>2021</td>\n",
       "      <td>4</td>\n",
       "      <td>52.34</td>\n",
       "      <td>Oct-Dic 2021</td>\n",
       "      <td>2021-10-01</td>\n",
       "    </tr>\n",
       "    <tr>\n",
       "      <th>4</th>\n",
       "      <td>2021</td>\n",
       "      <td>3</td>\n",
       "      <td>48.46</td>\n",
       "      <td>Jul-Sept 2021</td>\n",
       "      <td>2021-07-01</td>\n",
       "    </tr>\n",
       "  </tbody>\n",
       "</table>\n",
       "</div>"
      ],
      "text/plain": [
       "    Año  Trimestre  Mbps (Media de bajada)    Trimestre.1      Fecha\n",
       "0  2022          3                   62.46  Jul-Sept 2022 2022-07-01\n",
       "1  2022          2                   58.44   Abr-Jun 2022 2022-04-01\n",
       "2  2022          1                   55.11   Ene-Mar 2022 2022-01-01\n",
       "3  2021          4                   52.34   Oct-Dic 2021 2021-10-01\n",
       "4  2021          3                   48.46  Jul-Sept 2021 2021-07-01"
      ]
     },
     "execution_count": 23,
     "metadata": {},
     "output_type": "execute_result"
    }
   ],
   "source": [
    "df_velocidad_trimestre.head()"
   ]
  },
  {
   "cell_type": "code",
   "execution_count": 24,
   "metadata": {},
   "outputs": [],
   "source": [
    "df_velocidad_trimestre.to_csv('df_velocidad_trimestre.csv', index=False)"
   ]
  },
  {
   "cell_type": "code",
   "execution_count": 25,
   "metadata": {},
   "outputs": [
    {
     "name": "stdout",
     "output_type": "stream",
     "text": [
      "<class 'pandas.core.frame.DataFrame'>\n",
      "RangeIndex: 35 entries, 0 to 34\n",
      "Data columns (total 5 columns):\n",
      " #   Column                  Non-Null Count  Dtype         \n",
      "---  ------                  --------------  -----         \n",
      " 0   Año                     35 non-null     int64         \n",
      " 1   Trimestre               35 non-null     int64         \n",
      " 2   Mbps (Media de bajada)  35 non-null     float64       \n",
      " 3   Trimestre.1             35 non-null     object        \n",
      " 4   Fecha                   35 non-null     datetime64[ns]\n",
      "dtypes: datetime64[ns](1), float64(1), int64(2), object(1)\n",
      "memory usage: 1.5+ KB\n"
     ]
    }
   ],
   "source": [
    "df_velocidad_trimestre.info()"
   ]
  },
  {
   "attachments": {},
   "cell_type": "markdown",
   "metadata": {},
   "source": [
    "TABLA DE CANTIDAD SEGÚN VELOCIDAD (MBPS) POR PROVINCIA"
   ]
  },
  {
   "cell_type": "code",
   "execution_count": 26,
   "metadata": {},
   "outputs": [
    {
     "data": {
      "text/html": [
       "<div>\n",
       "<style scoped>\n",
       "    .dataframe tbody tr th:only-of-type {\n",
       "        vertical-align: middle;\n",
       "    }\n",
       "\n",
       "    .dataframe tbody tr th {\n",
       "        vertical-align: top;\n",
       "    }\n",
       "\n",
       "    .dataframe thead th {\n",
       "        text-align: right;\n",
       "    }\n",
       "</style>\n",
       "<table border=\"1\" class=\"dataframe\">\n",
       "  <thead>\n",
       "    <tr style=\"text-align: right;\">\n",
       "      <th></th>\n",
       "      <th>Año</th>\n",
       "      <th>Trimestre</th>\n",
       "      <th>Provincia</th>\n",
       "      <th>HASTA 512 kbps</th>\n",
       "      <th>+ 512 Kbps - 1 Mbps</th>\n",
       "      <th>+ 1 Mbps - 6 Mbps</th>\n",
       "      <th>+ 6 Mbps - 10 Mbps</th>\n",
       "      <th>+ 10 Mbps - 20 Mbps</th>\n",
       "      <th>+ 20 Mbps - 30 Mbps</th>\n",
       "      <th>+ 30 Mbps</th>\n",
       "      <th>OTROS</th>\n",
       "      <th>Total</th>\n",
       "    </tr>\n",
       "  </thead>\n",
       "  <tbody>\n",
       "    <tr>\n",
       "      <th>0</th>\n",
       "      <td>2022</td>\n",
       "      <td>3</td>\n",
       "      <td>Buenos Aires</td>\n",
       "      <td>29985</td>\n",
       "      <td>27709</td>\n",
       "      <td>290315</td>\n",
       "      <td>297915</td>\n",
       "      <td>267044</td>\n",
       "      <td>124190</td>\n",
       "      <td>3618689</td>\n",
       "      <td>65821.0</td>\n",
       "      <td>4721668</td>\n",
       "    </tr>\n",
       "    <tr>\n",
       "      <th>1</th>\n",
       "      <td>2022</td>\n",
       "      <td>3</td>\n",
       "      <td>Capital Federal</td>\n",
       "      <td>517</td>\n",
       "      <td>5742</td>\n",
       "      <td>34371</td>\n",
       "      <td>67829</td>\n",
       "      <td>51946</td>\n",
       "      <td>28692</td>\n",
       "      <td>1253105</td>\n",
       "      <td>105477.0</td>\n",
       "      <td>1547679</td>\n",
       "    </tr>\n",
       "    <tr>\n",
       "      <th>2</th>\n",
       "      <td>2022</td>\n",
       "      <td>3</td>\n",
       "      <td>Catamarca</td>\n",
       "      <td>71</td>\n",
       "      <td>384</td>\n",
       "      <td>3107</td>\n",
       "      <td>5389</td>\n",
       "      <td>5099</td>\n",
       "      <td>3737</td>\n",
       "      <td>50298</td>\n",
       "      <td>2208.0</td>\n",
       "      <td>70293</td>\n",
       "    </tr>\n",
       "    <tr>\n",
       "      <th>3</th>\n",
       "      <td>2022</td>\n",
       "      <td>3</td>\n",
       "      <td>Chaco</td>\n",
       "      <td>461</td>\n",
       "      <td>987</td>\n",
       "      <td>16782</td>\n",
       "      <td>18938</td>\n",
       "      <td>8049</td>\n",
       "      <td>15828</td>\n",
       "      <td>79390</td>\n",
       "      <td>3711.0</td>\n",
       "      <td>144146</td>\n",
       "    </tr>\n",
       "    <tr>\n",
       "      <th>4</th>\n",
       "      <td>2022</td>\n",
       "      <td>3</td>\n",
       "      <td>Chubut</td>\n",
       "      <td>109</td>\n",
       "      <td>1444</td>\n",
       "      <td>45707</td>\n",
       "      <td>30940</td>\n",
       "      <td>34682</td>\n",
       "      <td>15309</td>\n",
       "      <td>17563</td>\n",
       "      <td>20024.0</td>\n",
       "      <td>165778</td>\n",
       "    </tr>\n",
       "  </tbody>\n",
       "</table>\n",
       "</div>"
      ],
      "text/plain": [
       "    Año  Trimestre        Provincia  HASTA 512 kbps  + 512 Kbps - 1 Mbps  \\\n",
       "0  2022          3     Buenos Aires           29985                27709   \n",
       "1  2022          3  Capital Federal             517                 5742   \n",
       "2  2022          3        Catamarca              71                  384   \n",
       "3  2022          3            Chaco             461                  987   \n",
       "4  2022          3           Chubut             109                 1444   \n",
       "\n",
       "   + 1 Mbps - 6 Mbps  + 6 Mbps - 10 Mbps  + 10 Mbps - 20 Mbps  \\\n",
       "0             290315              297915               267044   \n",
       "1              34371               67829                51946   \n",
       "2               3107                5389                 5099   \n",
       "3              16782               18938                 8049   \n",
       "4              45707               30940                34682   \n",
       "\n",
       "   + 20 Mbps - 30 Mbps  + 30 Mbps     OTROS    Total  \n",
       "0               124190    3618689   65821.0  4721668  \n",
       "1                28692    1253105  105477.0  1547679  \n",
       "2                 3737      50298    2208.0    70293  \n",
       "3                15828      79390    3711.0   144146  \n",
       "4                15309      17563   20024.0   165778  "
      ]
     },
     "execution_count": 26,
     "metadata": {},
     "output_type": "execute_result"
    }
   ],
   "source": [
    "df_acceso_velocidad.head()"
   ]
  },
  {
   "cell_type": "code",
   "execution_count": 27,
   "metadata": {},
   "outputs": [
    {
     "data": {
      "text/plain": [
       "array(['Buenos Aires', 'Capital Federal', 'Catamarca', 'Chaco', 'Chubut',\n",
       "       'Córdoba', 'Corrientes', 'Entre Ríos', 'Formosa', 'Jujuy',\n",
       "       'La Pampa', 'La Rioja', 'Mendoza', 'Misiones', 'Neuquén',\n",
       "       'Río Negro', 'Salta', 'San Juan', 'San Luis', 'Santa Cruz',\n",
       "       'Santa Fe', 'Santiago Del Estero', 'Tierra Del Fuego', 'Tucumán'],\n",
       "      dtype=object)"
      ]
     },
     "execution_count": 27,
     "metadata": {},
     "output_type": "execute_result"
    }
   ],
   "source": [
    "df_acceso_velocidad['Provincia'].unique()"
   ]
  },
  {
   "cell_type": "code",
   "execution_count": 28,
   "metadata": {},
   "outputs": [
    {
     "data": {
      "text/plain": [
       "array(['Buenos Aires', 'Capital Federal', 'Catamarca', 'Chaco', 'Chubut',\n",
       "       'Córdoba', 'Corrientes', 'Entre Ríos', 'Formosa', 'Jujuy',\n",
       "       'La Pampa', 'La Rioja', 'Mendoza', 'Misiones', 'Neuquén',\n",
       "       'Río Negro', 'Salta', 'San Juan', 'San Luis', 'Santa Cruz',\n",
       "       'Santa Fe', 'Santiago Del Estero', 'Tierra Del Fuego', 'Tucumán'],\n",
       "      dtype=object)"
      ]
     },
     "execution_count": 28,
     "metadata": {},
     "output_type": "execute_result"
    }
   ],
   "source": [
    "df_acceso_tecnologia_2['Provincia'].unique()"
   ]
  },
  {
   "cell_type": "code",
   "execution_count": 29,
   "metadata": {},
   "outputs": [
    {
     "data": {
      "text/plain": [
       "array(['Buenos Aires', 'Capital Federal', 'Catamarca', 'Chaco', 'Chubut',\n",
       "       'Córdoba', 'Corrientes', 'Entre Ríos', 'Formosa', 'Jujuy',\n",
       "       'La Pampa', 'La Rioja', 'Mendoza', 'Misiones', 'Neuquén',\n",
       "       'Río Negro', 'Salta', 'San Juan', 'San Luis', 'Santa Cruz',\n",
       "       'Santa Fe', 'Santiago Del Estero', 'Tierra Del Fuego', 'Tucumán'],\n",
       "      dtype=object)"
      ]
     },
     "execution_count": 29,
     "metadata": {},
     "output_type": "execute_result"
    }
   ],
   "source": [
    "df_penetracion_internet['Provincia'].unique()"
   ]
  },
  {
   "cell_type": "code",
   "execution_count": 30,
   "metadata": {},
   "outputs": [
    {
     "data": {
      "text/plain": [
       "Index(['Año', 'Trimestre', 'Provincia', 'HASTA 512 kbps',\n",
       "       '+ 512 Kbps - 1 Mbps', '+ 1 Mbps - 6 Mbps', '+ 6 Mbps - 10 Mbps',\n",
       "       '+ 10 Mbps - 20 Mbps', '+ 20 Mbps - 30 Mbps', '+ 30 Mbps', 'OTROS',\n",
       "       'Total'],\n",
       "      dtype='object')"
      ]
     },
     "execution_count": 30,
     "metadata": {},
     "output_type": "execute_result"
    }
   ],
   "source": [
    "df_acceso_velocidad.columns"
   ]
  },
  {
   "cell_type": "code",
   "execution_count": 31,
   "metadata": {},
   "outputs": [],
   "source": [
    "# Seleccionar las columnas a sumar\n",
    "cols_to_sum = df_acceso_velocidad.iloc[:, 3:9]\n",
    "\n",
    "# Sumar las columnas a lo largo del eje de las columnas\n",
    "df_acceso_velocidad['-30 Mbps'] = cols_to_sum.sum(axis=1)\n",
    "\n",
    "# Elimino las columnas sobrantes\n",
    "df_acceso_velocidad.drop(['HASTA 512 kbps','+ 512 Kbps - 1 Mbps', '+ 1 Mbps - 6 Mbps', '+ 6 Mbps - 10 Mbps','+ 10 Mbps - 20 Mbps', '+ 20 Mbps - 30 Mbps'], axis=1, inplace=True)\n",
    "\n",
    "#cambio el orden de las columnas\n",
    "df_acceso_velocidad = df_acceso_velocidad.reindex(columns=['Año', 'Trimestre', 'Provincia','-30 Mbps', '+ 30 Mbps', 'OTROS', 'Total'])"
   ]
  },
  {
   "cell_type": "code",
   "execution_count": 32,
   "metadata": {},
   "outputs": [
    {
     "name": "stdout",
     "output_type": "stream",
     "text": [
      "<class 'pandas.core.frame.DataFrame'>\n",
      "RangeIndex: 840 entries, 0 to 839\n",
      "Data columns (total 7 columns):\n",
      " #   Column     Non-Null Count  Dtype  \n",
      "---  ------     --------------  -----  \n",
      " 0   Año        840 non-null    int64  \n",
      " 1   Trimestre  840 non-null    int64  \n",
      " 2   Provincia  840 non-null    object \n",
      " 3   -30 Mbps   840 non-null    int64  \n",
      " 4   + 30 Mbps  840 non-null    int64  \n",
      " 5   OTROS      834 non-null    float64\n",
      " 6   Total      840 non-null    int64  \n",
      "dtypes: float64(1), int64(5), object(1)\n",
      "memory usage: 46.1+ KB\n"
     ]
    }
   ],
   "source": [
    "df_acceso_velocidad.info()"
   ]
  },
  {
   "cell_type": "code",
   "execution_count": 33,
   "metadata": {},
   "outputs": [],
   "source": [
    "df_acceso_velocidad['OTROS'].unique() #tine nulos, procedo a rellenarlo con 0\n",
    "df_acceso_velocidad['OTROS'].fillna(0, inplace=True)\n",
    "#los valores de la columna 'OTROS' están en formato float, los paso a int\n",
    "df_acceso_velocidad['OTROS'] = df_acceso_velocidad['OTROS'].astype(int)"
   ]
  },
  {
   "cell_type": "code",
   "execution_count": 34,
   "metadata": {},
   "outputs": [],
   "source": [
    "def fecha_trimestre(row):\n",
    "    trimestre = row['Trimestre']\n",
    "    year = row['Año']\n",
    "    \n",
    "    if trimestre == 1:\n",
    "        fecha = pd.to_datetime(f'{year}-01-01')\n",
    "    elif trimestre == 2:\n",
    "        fecha = pd.to_datetime(f'{year}-04-01')\n",
    "    elif trimestre == 3:\n",
    "        fecha = pd.to_datetime(f'{year}-07-01')\n",
    "    elif trimestre == 4:\n",
    "        fecha = pd.to_datetime(f'{year}-10-01')\n",
    "    \n",
    "    return fecha\n",
    "\n",
    "df_acceso_velocidad['Fecha'] = df_acceso_velocidad.apply(fecha_trimestre, axis=1)"
   ]
  },
  {
   "cell_type": "code",
   "execution_count": 35,
   "metadata": {},
   "outputs": [],
   "source": [
    "df_acceso_velocidad.to_csv('df_acceso_velociadad.csv', index=False)"
   ]
  },
  {
   "attachments": {},
   "cell_type": "markdown",
   "metadata": {},
   "source": [
    "ACCESO A INTERNET CADA 100 HOGARES"
   ]
  },
  {
   "cell_type": "code",
   "execution_count": 36,
   "metadata": {},
   "outputs": [
    {
     "data": {
      "text/html": [
       "<div>\n",
       "<style scoped>\n",
       "    .dataframe tbody tr th:only-of-type {\n",
       "        vertical-align: middle;\n",
       "    }\n",
       "\n",
       "    .dataframe tbody tr th {\n",
       "        vertical-align: top;\n",
       "    }\n",
       "\n",
       "    .dataframe thead th {\n",
       "        text-align: right;\n",
       "    }\n",
       "</style>\n",
       "<table border=\"1\" class=\"dataframe\">\n",
       "  <thead>\n",
       "    <tr style=\"text-align: right;\">\n",
       "      <th></th>\n",
       "      <th>Año</th>\n",
       "      <th>Trimestre</th>\n",
       "      <th>Provincia</th>\n",
       "      <th>Accesos por cada 100 hogares</th>\n",
       "    </tr>\n",
       "  </thead>\n",
       "  <tbody>\n",
       "    <tr>\n",
       "      <th>835</th>\n",
       "      <td>2014</td>\n",
       "      <td>1</td>\n",
       "      <td>Santa Cruz</td>\n",
       "      <td>28,94</td>\n",
       "    </tr>\n",
       "    <tr>\n",
       "      <th>836</th>\n",
       "      <td>2014</td>\n",
       "      <td>1</td>\n",
       "      <td>Santa Fe</td>\n",
       "      <td>47,85</td>\n",
       "    </tr>\n",
       "    <tr>\n",
       "      <th>837</th>\n",
       "      <td>2014</td>\n",
       "      <td>1</td>\n",
       "      <td>Santiago Del Estero</td>\n",
       "      <td>16,31</td>\n",
       "    </tr>\n",
       "    <tr>\n",
       "      <th>838</th>\n",
       "      <td>2014</td>\n",
       "      <td>1</td>\n",
       "      <td>Tierra Del Fuego</td>\n",
       "      <td>63,97</td>\n",
       "    </tr>\n",
       "    <tr>\n",
       "      <th>839</th>\n",
       "      <td>2014</td>\n",
       "      <td>1</td>\n",
       "      <td>Tucumán</td>\n",
       "      <td>33,42</td>\n",
       "    </tr>\n",
       "  </tbody>\n",
       "</table>\n",
       "</div>"
      ],
      "text/plain": [
       "      Año  Trimestre            Provincia Accesos por cada 100 hogares\n",
       "835  2014          1           Santa Cruz                        28,94\n",
       "836  2014          1             Santa Fe                        47,85\n",
       "837  2014          1  Santiago Del Estero                        16,31\n",
       "838  2014          1     Tierra Del Fuego                        63,97\n",
       "839  2014          1              Tucumán                        33,42"
      ]
     },
     "execution_count": 36,
     "metadata": {},
     "output_type": "execute_result"
    }
   ],
   "source": [
    "df_penetracion_internet.tail()"
   ]
  },
  {
   "cell_type": "code",
   "execution_count": 37,
   "metadata": {},
   "outputs": [
    {
     "name": "stdout",
     "output_type": "stream",
     "text": [
      "<class 'pandas.core.frame.DataFrame'>\n",
      "RangeIndex: 840 entries, 0 to 839\n",
      "Data columns (total 4 columns):\n",
      " #   Column                        Non-Null Count  Dtype \n",
      "---  ------                        --------------  ----- \n",
      " 0   Año                           840 non-null    int64 \n",
      " 1   Trimestre                     840 non-null    int64 \n",
      " 2   Provincia                     840 non-null    object\n",
      " 3   Accesos por cada 100 hogares  840 non-null    object\n",
      "dtypes: int64(2), object(2)\n",
      "memory usage: 26.4+ KB\n"
     ]
    }
   ],
   "source": [
    "df_penetracion_internet.info()"
   ]
  },
  {
   "cell_type": "code",
   "execution_count": 38,
   "metadata": {},
   "outputs": [],
   "source": [
    "def fecha_trimestre(row):\n",
    "    trimestre = row['Trimestre']\n",
    "    year = row['Año']\n",
    "    \n",
    "    if trimestre == 1:\n",
    "        fecha = pd.to_datetime(f'{year}-01-01')\n",
    "    elif trimestre == 2:\n",
    "        fecha = pd.to_datetime(f'{year}-04-01')\n",
    "    elif trimestre == 3:\n",
    "        fecha = pd.to_datetime(f'{year}-07-01')\n",
    "    elif trimestre == 4:\n",
    "        fecha = pd.to_datetime(f'{year}-10-01')\n",
    "    \n",
    "    return fecha\n",
    "\n",
    "df_penetracion_internet['Fecha'] = df_penetracion_internet.apply(fecha_trimestre, axis=1)"
   ]
  },
  {
   "attachments": {},
   "cell_type": "markdown",
   "metadata": {},
   "source": [
    "Realizo el KPI primero en py"
   ]
  },
  {
   "cell_type": "code",
   "execution_count": 39,
   "metadata": {},
   "outputs": [],
   "source": [
    "df_penetracion_internet[\"Accesos por cada 100 hogares\"] = df_penetracion_internet[\"Accesos por cada 100 hogares\"].str.replace(\",\", \".\").astype(float)"
   ]
  },
  {
   "cell_type": "code",
   "execution_count": 40,
   "metadata": {},
   "outputs": [],
   "source": [
    "# Ordenar los datos por provincia y trimestre\n",
    "df_penetracion_internet = df_penetracion_internet.sort_values(['Año', 'Trimestre'])\n",
    "\n",
    "# Calcular la variación porcentual entre el último y el anteúltimo trimestre de cada provincia\n",
    "df_penetracion_internet[\"Variacion porcentual\"] = df_penetracion_internet.groupby(\"Provincia\")[\"Accesos por cada 100 hogares\"].pct_change()\n",
    "\n",
    "## rellenar los valores nulos con ceros en la columna \"variacion\"\n",
    "df_penetracion_internet['Variacion porcentual'] = df_penetracion_internet['Variacion porcentual'].fillna(0)"
   ]
  },
  {
   "cell_type": "code",
   "execution_count": 41,
   "metadata": {},
   "outputs": [],
   "source": [
    "df_penetracion_internet = df_penetracion_internet.sort_values(['Provincia', 'Fecha'], ascending=[True, True])\n",
    "df_penetracion_internet['KPI (+2%)'] = round((df_penetracion_internet['Accesos por cada 100 hogares'].shift(1) * 0.02) + df_penetracion_internet['Accesos por cada 100 hogares'].shift(1), 2)\n",
    "# rellenar los valores nulos con ceros en la columna \"variacion\"\n",
    "df_penetracion_internet['KPI (+2%)'] = df_penetracion_internet['KPI (+2%)'].fillna(0)"
   ]
  },
  {
   "cell_type": "code",
   "execution_count": 42,
   "metadata": {},
   "outputs": [],
   "source": [
    "df_penetracion_internet.to_csv('df_penetracion_internet.csv', index=False)"
   ]
  },
  {
   "cell_type": "code",
   "execution_count": 43,
   "metadata": {},
   "outputs": [
    {
     "data": {
      "image/png": "[encoded data removed]",
      "text/plain": [
       "<Figure size 640x480 with 2 Axes>"
      ]
     },
     "metadata": {},
     "output_type": "display_data"
    }
   ],
   "source": [
    "corr = df_penetracion_internet[['Año', 'Trimestre', 'Accesos por cada 100 hogares']].corr()\n",
    "\n",
    "sns.heatmap(corr, annot=True, cmap='coolwarm')\n",
    "plt.show()"
   ]
  },
  {
   "attachments": {},
   "cell_type": "markdown",
   "metadata": {},
   "source": [
    "INGRESOS EN PESOS POR TRIMESTRE"
   ]
  },
  {
   "cell_type": "code",
   "execution_count": 44,
   "metadata": {},
   "outputs": [
    {
     "data": {
      "text/html": [
       "<div>\n",
       "<style scoped>\n",
       "    .dataframe tbody tr th:only-of-type {\n",
       "        vertical-align: middle;\n",
       "    }\n",
       "\n",
       "    .dataframe tbody tr th {\n",
       "        vertical-align: top;\n",
       "    }\n",
       "\n",
       "    .dataframe thead th {\n",
       "        text-align: right;\n",
       "    }\n",
       "</style>\n",
       "<table border=\"1\" class=\"dataframe\">\n",
       "  <thead>\n",
       "    <tr style=\"text-align: right;\">\n",
       "      <th></th>\n",
       "      <th>Año</th>\n",
       "      <th>Trimestre</th>\n",
       "      <th>Ingresos (miles de pesos)</th>\n",
       "      <th>Periodo</th>\n",
       "    </tr>\n",
       "  </thead>\n",
       "  <tbody>\n",
       "    <tr>\n",
       "      <th>0</th>\n",
       "      <td>2022</td>\n",
       "      <td>3</td>\n",
       "      <td>67055930</td>\n",
       "      <td>jul-sept 2022</td>\n",
       "    </tr>\n",
       "    <tr>\n",
       "      <th>1</th>\n",
       "      <td>2022</td>\n",
       "      <td>2</td>\n",
       "      <td>60335724</td>\n",
       "      <td>abr-jun 2022</td>\n",
       "    </tr>\n",
       "    <tr>\n",
       "      <th>2</th>\n",
       "      <td>2022</td>\n",
       "      <td>1</td>\n",
       "      <td>55589997</td>\n",
       "      <td>ene-mar 2022</td>\n",
       "    </tr>\n",
       "    <tr>\n",
       "      <th>3</th>\n",
       "      <td>2021</td>\n",
       "      <td>4</td>\n",
       "      <td>45467887</td>\n",
       "      <td>oct-dic 2021</td>\n",
       "    </tr>\n",
       "    <tr>\n",
       "      <th>4</th>\n",
       "      <td>2021</td>\n",
       "      <td>3</td>\n",
       "      <td>42999944</td>\n",
       "      <td>jul-sept 2021</td>\n",
       "    </tr>\n",
       "  </tbody>\n",
       "</table>\n",
       "</div>"
      ],
      "text/plain": [
       "    Año  Trimestre  Ingresos (miles de pesos)        Periodo\n",
       "0  2022          3                   67055930  jul-sept 2022\n",
       "1  2022          2                   60335724   abr-jun 2022\n",
       "2  2022          1                   55589997   ene-mar 2022\n",
       "3  2021          4                   45467887   oct-dic 2021\n",
       "4  2021          3                   42999944  jul-sept 2021"
      ]
     },
     "execution_count": 44,
     "metadata": {},
     "output_type": "execute_result"
    }
   ],
   "source": [
    "df_ingresos.head()"
   ]
  },
  {
   "cell_type": "code",
   "execution_count": 45,
   "metadata": {},
   "outputs": [
    {
     "name": "stdout",
     "output_type": "stream",
     "text": [
      "<class 'pandas.core.frame.DataFrame'>\n",
      "RangeIndex: 35 entries, 0 to 34\n",
      "Data columns (total 4 columns):\n",
      " #   Column                     Non-Null Count  Dtype \n",
      "---  ------                     --------------  ----- \n",
      " 0   Año                        35 non-null     int64 \n",
      " 1   Trimestre                  35 non-null     int64 \n",
      " 2   Ingresos (miles de pesos)  35 non-null     int64 \n",
      " 3   Periodo                    35 non-null     object\n",
      "dtypes: int64(3), object(1)\n",
      "memory usage: 1.2+ KB\n"
     ]
    }
   ],
   "source": [
    "df_ingresos.info()"
   ]
  },
  {
   "cell_type": "code",
   "execution_count": 46,
   "metadata": {},
   "outputs": [],
   "source": [
    "def fecha_trimestre(row):\n",
    "    trimestre = row['Trimestre']\n",
    "    year = row['Año']\n",
    "    \n",
    "    if trimestre == 1:\n",
    "        fecha = pd.to_datetime(f'{year}-01-01')\n",
    "    elif trimestre == 2:\n",
    "        fecha = pd.to_datetime(f'{year}-04-01')\n",
    "    elif trimestre == 3:\n",
    "        fecha = pd.to_datetime(f'{year}-07-01')\n",
    "    elif trimestre == 4:\n",
    "        fecha = pd.to_datetime(f'{year}-10-01')\n",
    "    \n",
    "    return fecha\n",
    "\n",
    "df_ingresos['Fecha'] = df_ingresos.apply(fecha_trimestre, axis=1)"
   ]
  },
  {
   "cell_type": "code",
   "execution_count": 47,
   "metadata": {},
   "outputs": [],
   "source": [
    "df_ingresos.to_csv('df_ingresos.csv', index=False)"
   ]
  },
  {
   "attachments": {},
   "cell_type": "markdown",
   "metadata": {},
   "source": [
    "CANTIDAD DE BANDA ANCHA FIJA POR PROVINCIA"
   ]
  },
  {
   "cell_type": "code",
   "execution_count": 48,
   "metadata": {},
   "outputs": [
    {
     "data": {
      "text/html": [
       "<div>\n",
       "<style scoped>\n",
       "    .dataframe tbody tr th:only-of-type {\n",
       "        vertical-align: middle;\n",
       "    }\n",
       "\n",
       "    .dataframe tbody tr th {\n",
       "        vertical-align: top;\n",
       "    }\n",
       "\n",
       "    .dataframe thead th {\n",
       "        text-align: right;\n",
       "    }\n",
       "</style>\n",
       "<table border=\"1\" class=\"dataframe\">\n",
       "  <thead>\n",
       "    <tr style=\"text-align: right;\">\n",
       "      <th></th>\n",
       "      <th>Año</th>\n",
       "      <th>Trimestre</th>\n",
       "      <th>Provincia</th>\n",
       "      <th>Banda ancha fija</th>\n",
       "      <th>Dial up</th>\n",
       "      <th>Total</th>\n",
       "    </tr>\n",
       "  </thead>\n",
       "  <tbody>\n",
       "    <tr>\n",
       "      <th>0</th>\n",
       "      <td>2022</td>\n",
       "      <td>3</td>\n",
       "      <td>Buenos Aires</td>\n",
       "      <td>4715469</td>\n",
       "      <td>6.199</td>\n",
       "      <td>4721668</td>\n",
       "    </tr>\n",
       "    <tr>\n",
       "      <th>1</th>\n",
       "      <td>2022</td>\n",
       "      <td>3</td>\n",
       "      <td>Capital Federal</td>\n",
       "      <td>1545534</td>\n",
       "      <td>2.145</td>\n",
       "      <td>1547679</td>\n",
       "    </tr>\n",
       "    <tr>\n",
       "      <th>2</th>\n",
       "      <td>2022</td>\n",
       "      <td>3</td>\n",
       "      <td>Catamarca</td>\n",
       "      <td>70292</td>\n",
       "      <td>1</td>\n",
       "      <td>70293</td>\n",
       "    </tr>\n",
       "    <tr>\n",
       "      <th>3</th>\n",
       "      <td>2022</td>\n",
       "      <td>3</td>\n",
       "      <td>Chaco</td>\n",
       "      <td>144141</td>\n",
       "      <td>5</td>\n",
       "      <td>144146</td>\n",
       "    </tr>\n",
       "    <tr>\n",
       "      <th>4</th>\n",
       "      <td>2022</td>\n",
       "      <td>3</td>\n",
       "      <td>Chubut</td>\n",
       "      <td>164874</td>\n",
       "      <td>904</td>\n",
       "      <td>165778</td>\n",
       "    </tr>\n",
       "  </tbody>\n",
       "</table>\n",
       "</div>"
      ],
      "text/plain": [
       "    Año  Trimestre        Provincia  Banda ancha fija Dial up    Total\n",
       "0  2022          3     Buenos Aires           4715469   6.199  4721668\n",
       "1  2022          3  Capital Federal           1545534   2.145  1547679\n",
       "2  2022          3        Catamarca             70292       1    70293\n",
       "3  2022          3            Chaco            144141       5   144146\n",
       "4  2022          3           Chubut            164874     904   165778"
      ]
     },
     "execution_count": 48,
     "metadata": {},
     "output_type": "execute_result"
    }
   ],
   "source": [
    "df_baf.head()"
   ]
  },
  {
   "cell_type": "code",
   "execution_count": 49,
   "metadata": {},
   "outputs": [
    {
     "name": "stdout",
     "output_type": "stream",
     "text": [
      "<class 'pandas.core.frame.DataFrame'>\n",
      "RangeIndex: 840 entries, 0 to 839\n",
      "Data columns (total 6 columns):\n",
      " #   Column            Non-Null Count  Dtype \n",
      "---  ------            --------------  ----- \n",
      " 0   Año               840 non-null    int64 \n",
      " 1   Trimestre         840 non-null    int64 \n",
      " 2   Provincia         840 non-null    object\n",
      " 3   Banda ancha fija  840 non-null    int64 \n",
      " 4   Dial up           838 non-null    object\n",
      " 5   Total             840 non-null    int64 \n",
      "dtypes: int64(4), object(2)\n",
      "memory usage: 39.5+ KB\n"
     ]
    }
   ],
   "source": [
    "df_baf.info()"
   ]
  },
  {
   "cell_type": "code",
   "execution_count": 50,
   "metadata": {},
   "outputs": [],
   "source": [
    "def fecha_trimestre(row):\n",
    "    trimestre = row['Trimestre']\n",
    "    year = row['Año']\n",
    "    \n",
    "    if trimestre == 1:\n",
    "        fecha = pd.to_datetime(f'{year}-01-01')\n",
    "    elif trimestre == 2:\n",
    "        fecha = pd.to_datetime(f'{year}-04-01')\n",
    "    elif trimestre == 3:\n",
    "        fecha = pd.to_datetime(f'{year}-07-01')\n",
    "    elif trimestre == 4:\n",
    "        fecha = pd.to_datetime(f'{year}-10-01')\n",
    "    \n",
    "    return fecha\n",
    "\n",
    "df_baf['Fecha'] = df_baf.apply(fecha_trimestre, axis=1)"
   ]
  },
  {
   "cell_type": "code",
   "execution_count": 51,
   "metadata": {},
   "outputs": [
    {
     "name": "stdout",
     "output_type": "stream",
     "text": [
      "<class 'pandas.core.frame.DataFrame'>\n",
      "RangeIndex: 840 entries, 0 to 839\n",
      "Data columns (total 7 columns):\n",
      " #   Column            Non-Null Count  Dtype         \n",
      "---  ------            --------------  -----         \n",
      " 0   Año               840 non-null    int64         \n",
      " 1   Trimestre         840 non-null    int64         \n",
      " 2   Provincia         840 non-null    object        \n",
      " 3   Banda ancha fija  840 non-null    int64         \n",
      " 4   Dial up           838 non-null    object        \n",
      " 5   Total             840 non-null    int64         \n",
      " 6   Fecha             840 non-null    datetime64[ns]\n",
      "dtypes: datetime64[ns](1), int64(4), object(2)\n",
      "memory usage: 46.1+ KB\n"
     ]
    }
   ],
   "source": [
    "df_baf['Dial up'].fillna(0, inplace=True)\n",
    "df_baf['Dial up'] = df_baf['Dial up'].str.replace(\"- 0\", \"0\")\n",
    "df_baf.info()\n",
    "df_baf.to_csv('df_BAF.csv', index=False)"
   ]
  }
 ],
 "metadata": {
  "kernelspec": {
   "display_name": "Python 3",
   "language": "python",
   "name": "python3"
  },
  "language_info": {
   "codemirror_mode": {
    "name": "ipython",
    "version": 3
   },
   "file_extension": ".py",
   "mimetype": "text/x-python",
   "name": "python",
   "nbconvert_exporter": "python",
   "pygments_lexer": "ipython3",
   "version": "3.10.6"
  },
  "orig_nbformat": 4
 },
 "nbformat": 4,
 "nbformat_minor": 2
}
